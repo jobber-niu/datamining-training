{
 "cells": [
  {
   "cell_type": "code",
   "execution_count": 24,
   "id": "f1e0e9d7",
   "metadata": {},
   "outputs": [
    {
     "name": "stdout",
     "output_type": "stream",
     "text": [
      "Using matplotlib backend: Qt5Agg\n"
     ]
    }
   ],
   "source": [
    "import pandas as pd\n",
    "import numpy as np\n",
    "import matplotlib.pyplot as plt\n",
    "%matplotlib \n",
    "plt.rcParams['font.sans-serif'] = 'SimHei'"
   ]
  },
  {
   "cell_type": "markdown",
   "id": "2eef29c6",
   "metadata": {},
   "source": [
    "数据集有三个表"
   ]
  },
  {
   "cell_type": "code",
   "execution_count": 17,
   "id": "9302c8ee",
   "metadata": {},
   "outputs": [
    {
     "data": {
      "text/plain": [
       "(10037, 19)"
      ]
     },
     "execution_count": 17,
     "metadata": {},
     "output_type": "execute_result"
    }
   ],
   "source": [
    "d1 = pd.read_excel('meal_order_detail.xlsx',sheet_name='meal_order_detail1')\n",
    "d2 = pd.read_excel('meal_order_detail.xlsx',sheet_name='meal_order_detail2')\n",
    "d3 = pd.read_excel('meal_order_detail.xlsx',sheet_name='meal_order_detail3')\n",
    "d = pd.concat([d1,d2,d3],axis = 0)\n",
    "d.shape\n"
   ]
  },
  {
   "cell_type": "code",
   "execution_count": 18,
   "id": "8b750fee",
   "metadata": {},
   "outputs": [
    {
     "name": "stdout",
     "output_type": "stream",
     "text": [
      "<class 'pandas.core.frame.DataFrame'>\n",
      "Int64Index: 10037 entries, 0 to 3610\n",
      "Data columns (total 19 columns):\n",
      " #   Column             Non-Null Count  Dtype         \n",
      "---  ------             --------------  -----         \n",
      " 0   detail_id          10037 non-null  int64         \n",
      " 1   order_id           10037 non-null  int64         \n",
      " 2   dishes_id          10037 non-null  int64         \n",
      " 3   logicprn_name      0 non-null      float64       \n",
      " 4   parent_class_name  0 non-null      float64       \n",
      " 5   dishes_name        10037 non-null  object        \n",
      " 6   itemis_add         10037 non-null  int64         \n",
      " 7   counts             10037 non-null  int64         \n",
      " 8   amounts            10037 non-null  int64         \n",
      " 9   cost               0 non-null      float64       \n",
      " 10  place_order_time   10037 non-null  datetime64[ns]\n",
      " 11  discount_amt       0 non-null      float64       \n",
      " 12  discount_reason    0 non-null      float64       \n",
      " 13  kick_back          0 non-null      float64       \n",
      " 14  add_inprice        10037 non-null  int64         \n",
      " 15  add_info           0 non-null      float64       \n",
      " 16  bar_code           0 non-null      float64       \n",
      " 17  picture_file       10037 non-null  object        \n",
      " 18  emp_id             10037 non-null  int64         \n",
      "dtypes: datetime64[ns](1), float64(8), int64(8), object(2)\n",
      "memory usage: 1.5+ MB\n"
     ]
    }
   ],
   "source": [
    "d.info()"
   ]
  },
  {
   "cell_type": "markdown",
   "id": "fadd2600",
   "metadata": {},
   "source": [
    "数据包括detail？，订单号，餐号，两个什么名字（注册者，客户名），餐名，类别添加？\n",
    "\n",
    "计件数，价格，花费，上餐时间？中间不知道什么的三个空列，加菜费？后面几个也看不太懂"
   ]
  },
  {
   "cell_type": "code",
   "execution_count": 22,
   "id": "9a591236",
   "metadata": {},
   "outputs": [
    {
     "data": {
      "text/html": [
       "<div>\n",
       "<style scoped>\n",
       "    .dataframe tbody tr th:only-of-type {\n",
       "        vertical-align: middle;\n",
       "    }\n",
       "\n",
       "    .dataframe tbody tr th {\n",
       "        vertical-align: top;\n",
       "    }\n",
       "\n",
       "    .dataframe thead th {\n",
       "        text-align: right;\n",
       "    }\n",
       "</style>\n",
       "<table border=\"1\" class=\"dataframe\">\n",
       "  <thead>\n",
       "    <tr style=\"text-align: right;\">\n",
       "      <th></th>\n",
       "      <th>detail_id</th>\n",
       "      <th>order_id</th>\n",
       "      <th>dishes_id</th>\n",
       "      <th>logicprn_name</th>\n",
       "      <th>parent_class_name</th>\n",
       "      <th>dishes_name</th>\n",
       "      <th>itemis_add</th>\n",
       "      <th>counts</th>\n",
       "      <th>amounts</th>\n",
       "      <th>cost</th>\n",
       "      <th>place_order_time</th>\n",
       "      <th>discount_amt</th>\n",
       "      <th>discount_reason</th>\n",
       "      <th>kick_back</th>\n",
       "      <th>add_inprice</th>\n",
       "      <th>add_info</th>\n",
       "      <th>bar_code</th>\n",
       "      <th>picture_file</th>\n",
       "      <th>emp_id</th>\n",
       "    </tr>\n",
       "  </thead>\n",
       "  <tbody>\n",
       "    <tr>\n",
       "      <th>0</th>\n",
       "      <td>2956</td>\n",
       "      <td>417</td>\n",
       "      <td>610062</td>\n",
       "      <td>NaN</td>\n",
       "      <td>NaN</td>\n",
       "      <td>蒜蓉生蚝</td>\n",
       "      <td>0</td>\n",
       "      <td>1</td>\n",
       "      <td>49</td>\n",
       "      <td>NaN</td>\n",
       "      <td>2016-08-01 11:05:36</td>\n",
       "      <td>NaN</td>\n",
       "      <td>NaN</td>\n",
       "      <td>NaN</td>\n",
       "      <td>0</td>\n",
       "      <td>NaN</td>\n",
       "      <td>NaN</td>\n",
       "      <td>caipu/104001.jpg</td>\n",
       "      <td>1442</td>\n",
       "    </tr>\n",
       "    <tr>\n",
       "      <th>1</th>\n",
       "      <td>2958</td>\n",
       "      <td>417</td>\n",
       "      <td>609957</td>\n",
       "      <td>NaN</td>\n",
       "      <td>NaN</td>\n",
       "      <td>蒙古烤羊腿</td>\n",
       "      <td>0</td>\n",
       "      <td>1</td>\n",
       "      <td>48</td>\n",
       "      <td>NaN</td>\n",
       "      <td>2016-08-01 11:07:07</td>\n",
       "      <td>NaN</td>\n",
       "      <td>NaN</td>\n",
       "      <td>NaN</td>\n",
       "      <td>0</td>\n",
       "      <td>NaN</td>\n",
       "      <td>NaN</td>\n",
       "      <td>caipu/202003.jpg</td>\n",
       "      <td>1442</td>\n",
       "    </tr>\n",
       "    <tr>\n",
       "      <th>2</th>\n",
       "      <td>2961</td>\n",
       "      <td>417</td>\n",
       "      <td>609950</td>\n",
       "      <td>NaN</td>\n",
       "      <td>NaN</td>\n",
       "      <td>大蒜苋菜</td>\n",
       "      <td>0</td>\n",
       "      <td>1</td>\n",
       "      <td>30</td>\n",
       "      <td>NaN</td>\n",
       "      <td>2016-08-01 11:07:40</td>\n",
       "      <td>NaN</td>\n",
       "      <td>NaN</td>\n",
       "      <td>NaN</td>\n",
       "      <td>0</td>\n",
       "      <td>NaN</td>\n",
       "      <td>NaN</td>\n",
       "      <td>caipu/303001.jpg</td>\n",
       "      <td>1442</td>\n",
       "    </tr>\n",
       "    <tr>\n",
       "      <th>3</th>\n",
       "      <td>2966</td>\n",
       "      <td>417</td>\n",
       "      <td>610038</td>\n",
       "      <td>NaN</td>\n",
       "      <td>NaN</td>\n",
       "      <td>芝麻烤紫菜</td>\n",
       "      <td>0</td>\n",
       "      <td>1</td>\n",
       "      <td>25</td>\n",
       "      <td>NaN</td>\n",
       "      <td>2016-08-01 11:11:11</td>\n",
       "      <td>NaN</td>\n",
       "      <td>NaN</td>\n",
       "      <td>NaN</td>\n",
       "      <td>0</td>\n",
       "      <td>NaN</td>\n",
       "      <td>NaN</td>\n",
       "      <td>caipu/105002.jpg</td>\n",
       "      <td>1442</td>\n",
       "    </tr>\n",
       "    <tr>\n",
       "      <th>4</th>\n",
       "      <td>2968</td>\n",
       "      <td>417</td>\n",
       "      <td>610003</td>\n",
       "      <td>NaN</td>\n",
       "      <td>NaN</td>\n",
       "      <td>蒜香包</td>\n",
       "      <td>0</td>\n",
       "      <td>1</td>\n",
       "      <td>13</td>\n",
       "      <td>NaN</td>\n",
       "      <td>2016-08-01 11:11:30</td>\n",
       "      <td>NaN</td>\n",
       "      <td>NaN</td>\n",
       "      <td>NaN</td>\n",
       "      <td>0</td>\n",
       "      <td>NaN</td>\n",
       "      <td>NaN</td>\n",
       "      <td>caipu/503002.jpg</td>\n",
       "      <td>1442</td>\n",
       "    </tr>\n",
       "  </tbody>\n",
       "</table>\n",
       "</div>"
      ],
      "text/plain": [
       "   detail_id  order_id  dishes_id  logicprn_name  parent_class_name  \\\n",
       "0       2956       417     610062            NaN                NaN   \n",
       "1       2958       417     609957            NaN                NaN   \n",
       "2       2961       417     609950            NaN                NaN   \n",
       "3       2966       417     610038            NaN                NaN   \n",
       "4       2968       417     610003            NaN                NaN   \n",
       "\n",
       "  dishes_name  itemis_add  counts  amounts  cost    place_order_time  \\\n",
       "0        蒜蓉生蚝           0       1       49   NaN 2016-08-01 11:05:36   \n",
       "1       蒙古烤羊腿           0       1       48   NaN 2016-08-01 11:07:07   \n",
       "2        大蒜苋菜           0       1       30   NaN 2016-08-01 11:07:40   \n",
       "3       芝麻烤紫菜           0       1       25   NaN 2016-08-01 11:11:11   \n",
       "4         蒜香包           0       1       13   NaN 2016-08-01 11:11:30   \n",
       "\n",
       "   discount_amt  discount_reason  kick_back  add_inprice  add_info  bar_code  \\\n",
       "0           NaN              NaN        NaN            0       NaN       NaN   \n",
       "1           NaN              NaN        NaN            0       NaN       NaN   \n",
       "2           NaN              NaN        NaN            0       NaN       NaN   \n",
       "3           NaN              NaN        NaN            0       NaN       NaN   \n",
       "4           NaN              NaN        NaN            0       NaN       NaN   \n",
       "\n",
       "       picture_file  emp_id  \n",
       "0  caipu/104001.jpg    1442  \n",
       "1  caipu/202003.jpg    1442  \n",
       "2  caipu/303001.jpg    1442  \n",
       "3  caipu/105002.jpg    1442  \n",
       "4  caipu/503002.jpg    1442  "
      ]
     },
     "execution_count": 22,
     "metadata": {},
     "output_type": "execute_result"
    }
   ],
   "source": [
    "d.head(5)"
   ]
  },
  {
   "cell_type": "code",
   "execution_count": 12,
   "id": "144ea079",
   "metadata": {},
   "outputs": [],
   "source": [
    "d.dropna(axis=1,inplace = True)"
   ]
  },
  {
   "cell_type": "code",
   "execution_count": 15,
   "id": "93aa2ad6",
   "metadata": {},
   "outputs": [
    {
     "name": "stdout",
     "output_type": "stream",
     "text": [
      "<class 'pandas.core.frame.DataFrame'>\n",
      "Int64Index: 10037 entries, 0 to 3610\n",
      "Data columns (total 11 columns):\n",
      " #   Column            Non-Null Count  Dtype         \n",
      "---  ------            --------------  -----         \n",
      " 0   detail_id         10037 non-null  int64         \n",
      " 1   order_id          10037 non-null  int64         \n",
      " 2   dishes_id         10037 non-null  int64         \n",
      " 3   dishes_name       10037 non-null  object        \n",
      " 4   itemis_add        10037 non-null  int64         \n",
      " 5   counts            10037 non-null  int64         \n",
      " 6   amounts           10037 non-null  int64         \n",
      " 7   place_order_time  10037 non-null  datetime64[ns]\n",
      " 8   add_inprice       10037 non-null  int64         \n",
      " 9   picture_file      10037 non-null  object        \n",
      " 10  emp_id            10037 non-null  int64         \n",
      "dtypes: datetime64[ns](1), int64(8), object(2)\n",
      "memory usage: 941.0+ KB\n"
     ]
    }
   ],
   "source": [
    "d.info()"
   ]
  },
  {
   "cell_type": "code",
   "execution_count": 23,
   "id": "55c434fd",
   "metadata": {},
   "outputs": [
    {
     "data": {
      "text/plain": [
       "count    10037.000000\n",
       "mean        44.821361\n",
       "std         35.815435\n",
       "min          1.000000\n",
       "25%         25.000000\n",
       "50%         35.000000\n",
       "75%         56.000000\n",
       "max        178.000000\n",
       "Name: amounts, dtype: float64"
      ]
     },
     "execution_count": 23,
     "metadata": {},
     "output_type": "execute_result"
    }
   ],
   "source": [
    "d.amounts.describe()"
   ]
  },
  {
   "cell_type": "code",
   "execution_count": 37,
   "id": "b996f260",
   "metadata": {},
   "outputs": [
    {
     "name": "stdout",
     "output_type": "stream",
     "text": [
      "白饭/大碗        323\n",
      "凉拌菠菜         269\n",
      "谷稻小庄         239\n",
      "麻辣小龙虾        216\n",
      "辣炒鱿鱼         189\n",
      "芝士烩波士顿龙虾     188\n",
      "五色糯米饭(七色)    187\n",
      "白饭/小碗        186\n",
      "香酥两吃大虾       178\n",
      "焖猪手          173\n",
      "Name: dishes_name, dtype: int64\n"
     ]
    }
   ],
   "source": [
    "print(d['dishes_name'].value_counts()[:10])"
   ]
  },
  {
   "cell_type": "code",
   "execution_count": null,
   "id": "0c3b9922",
   "metadata": {},
   "outputs": [],
   "source": []
  }
 ],
 "metadata": {
  "kernelspec": {
   "display_name": "Python 3 (ipykernel)",
   "language": "python",
   "name": "python3"
  },
  "language_info": {
   "codemirror_mode": {
    "name": "ipython",
    "version": 3
   },
   "file_extension": ".py",
   "mimetype": "text/x-python",
   "name": "python",
   "nbconvert_exporter": "python",
   "pygments_lexer": "ipython3",
   "version": "3.9.7"
  }
 },
 "nbformat": 4,
 "nbformat_minor": 5
}
